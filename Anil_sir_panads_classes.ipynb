{
  "cells": [
    {
      "cell_type": "code",
      "execution_count": 4,
      "metadata": {
        "colab": {
          "base_uri": "https://localhost:8080/",
          "height": 74
        },
        "id": "b88aLC1NRnRg",
        "outputId": "7f762184-7abe-4484-e220-a747d8fb6b24"
      },
      "outputs": [
        {
          "data": {
            "text/html": [
              "\n",
              "     <input type=\"file\" id=\"files-610cce4d-a148-457d-9739-57c02896fe91\" name=\"files[]\" multiple disabled\n",
              "        style=\"border:none\" />\n",
              "     <output id=\"result-610cce4d-a148-457d-9739-57c02896fe91\">\n",
              "      Upload widget is only available when the cell has been executed in the\n",
              "      current browser session. Please rerun this cell to enable.\n",
              "      </output>\n",
              "      <script>// Copyright 2017 Google LLC\n",
              "//\n",
              "// Licensed under the Apache License, Version 2.0 (the \"License\");\n",
              "// you may not use this file except in compliance with the License.\n",
              "// You may obtain a copy of the License at\n",
              "//\n",
              "//      http://www.apache.org/licenses/LICENSE-2.0\n",
              "//\n",
              "// Unless required by applicable law or agreed to in writing, software\n",
              "// distributed under the License is distributed on an \"AS IS\" BASIS,\n",
              "// WITHOUT WARRANTIES OR CONDITIONS OF ANY KIND, either express or implied.\n",
              "// See the License for the specific language governing permissions and\n",
              "// limitations under the License.\n",
              "\n",
              "/**\n",
              " * @fileoverview Helpers for google.colab Python module.\n",
              " */\n",
              "(function(scope) {\n",
              "function span(text, styleAttributes = {}) {\n",
              "  const element = document.createElement('span');\n",
              "  element.textContent = text;\n",
              "  for (const key of Object.keys(styleAttributes)) {\n",
              "    element.style[key] = styleAttributes[key];\n",
              "  }\n",
              "  return element;\n",
              "}\n",
              "\n",
              "// Max number of bytes which will be uploaded at a time.\n",
              "const MAX_PAYLOAD_SIZE = 100 * 1024;\n",
              "\n",
              "function _uploadFiles(inputId, outputId) {\n",
              "  const steps = uploadFilesStep(inputId, outputId);\n",
              "  const outputElement = document.getElementById(outputId);\n",
              "  // Cache steps on the outputElement to make it available for the next call\n",
              "  // to uploadFilesContinue from Python.\n",
              "  outputElement.steps = steps;\n",
              "\n",
              "  return _uploadFilesContinue(outputId);\n",
              "}\n",
              "\n",
              "// This is roughly an async generator (not supported in the browser yet),\n",
              "// where there are multiple asynchronous steps and the Python side is going\n",
              "// to poll for completion of each step.\n",
              "// This uses a Promise to block the python side on completion of each step,\n",
              "// then passes the result of the previous step as the input to the next step.\n",
              "function _uploadFilesContinue(outputId) {\n",
              "  const outputElement = document.getElementById(outputId);\n",
              "  const steps = outputElement.steps;\n",
              "\n",
              "  const next = steps.next(outputElement.lastPromiseValue);\n",
              "  return Promise.resolve(next.value.promise).then((value) => {\n",
              "    // Cache the last promise value to make it available to the next\n",
              "    // step of the generator.\n",
              "    outputElement.lastPromiseValue = value;\n",
              "    return next.value.response;\n",
              "  });\n",
              "}\n",
              "\n",
              "/**\n",
              " * Generator function which is called between each async step of the upload\n",
              " * process.\n",
              " * @param {string} inputId Element ID of the input file picker element.\n",
              " * @param {string} outputId Element ID of the output display.\n",
              " * @return {!Iterable<!Object>} Iterable of next steps.\n",
              " */\n",
              "function* uploadFilesStep(inputId, outputId) {\n",
              "  const inputElement = document.getElementById(inputId);\n",
              "  inputElement.disabled = false;\n",
              "\n",
              "  const outputElement = document.getElementById(outputId);\n",
              "  outputElement.innerHTML = '';\n",
              "\n",
              "  const pickedPromise = new Promise((resolve) => {\n",
              "    inputElement.addEventListener('change', (e) => {\n",
              "      resolve(e.target.files);\n",
              "    });\n",
              "  });\n",
              "\n",
              "  const cancel = document.createElement('button');\n",
              "  inputElement.parentElement.appendChild(cancel);\n",
              "  cancel.textContent = 'Cancel upload';\n",
              "  const cancelPromise = new Promise((resolve) => {\n",
              "    cancel.onclick = () => {\n",
              "      resolve(null);\n",
              "    };\n",
              "  });\n",
              "\n",
              "  // Wait for the user to pick the files.\n",
              "  const files = yield {\n",
              "    promise: Promise.race([pickedPromise, cancelPromise]),\n",
              "    response: {\n",
              "      action: 'starting',\n",
              "    }\n",
              "  };\n",
              "\n",
              "  cancel.remove();\n",
              "\n",
              "  // Disable the input element since further picks are not allowed.\n",
              "  inputElement.disabled = true;\n",
              "\n",
              "  if (!files) {\n",
              "    return {\n",
              "      response: {\n",
              "        action: 'complete',\n",
              "      }\n",
              "    };\n",
              "  }\n",
              "\n",
              "  for (const file of files) {\n",
              "    const li = document.createElement('li');\n",
              "    li.append(span(file.name, {fontWeight: 'bold'}));\n",
              "    li.append(span(\n",
              "        `(${file.type || 'n/a'}) - ${file.size} bytes, ` +\n",
              "        `last modified: ${\n",
              "            file.lastModifiedDate ? file.lastModifiedDate.toLocaleDateString() :\n",
              "                                    'n/a'} - `));\n",
              "    const percent = span('0% done');\n",
              "    li.appendChild(percent);\n",
              "\n",
              "    outputElement.appendChild(li);\n",
              "\n",
              "    const fileDataPromise = new Promise((resolve) => {\n",
              "      const reader = new FileReader();\n",
              "      reader.onload = (e) => {\n",
              "        resolve(e.target.result);\n",
              "      };\n",
              "      reader.readAsArrayBuffer(file);\n",
              "    });\n",
              "    // Wait for the data to be ready.\n",
              "    let fileData = yield {\n",
              "      promise: fileDataPromise,\n",
              "      response: {\n",
              "        action: 'continue',\n",
              "      }\n",
              "    };\n",
              "\n",
              "    // Use a chunked sending to avoid message size limits. See b/62115660.\n",
              "    let position = 0;\n",
              "    do {\n",
              "      const length = Math.min(fileData.byteLength - position, MAX_PAYLOAD_SIZE);\n",
              "      const chunk = new Uint8Array(fileData, position, length);\n",
              "      position += length;\n",
              "\n",
              "      const base64 = btoa(String.fromCharCode.apply(null, chunk));\n",
              "      yield {\n",
              "        response: {\n",
              "          action: 'append',\n",
              "          file: file.name,\n",
              "          data: base64,\n",
              "        },\n",
              "      };\n",
              "\n",
              "      let percentDone = fileData.byteLength === 0 ?\n",
              "          100 :\n",
              "          Math.round((position / fileData.byteLength) * 100);\n",
              "      percent.textContent = `${percentDone}% done`;\n",
              "\n",
              "    } while (position < fileData.byteLength);\n",
              "  }\n",
              "\n",
              "  // All done.\n",
              "  yield {\n",
              "    response: {\n",
              "      action: 'complete',\n",
              "    }\n",
              "  };\n",
              "}\n",
              "\n",
              "scope.google = scope.google || {};\n",
              "scope.google.colab = scope.google.colab || {};\n",
              "scope.google.colab._files = {\n",
              "  _uploadFiles,\n",
              "  _uploadFilesContinue,\n",
              "};\n",
              "})(self);\n",
              "</script> "
            ],
            "text/plain": [
              "<IPython.core.display.HTML object>"
            ]
          },
          "metadata": {},
          "output_type": "display_data"
        },
        {
          "name": "stdout",
          "output_type": "stream",
          "text": [
            "Saving Salary_Data.csv to Salary_Data (3).csv\n"
          ]
        }
      ],
      "source": [
        "from google.colab import files\n",
        "import pandas as pd\n",
        "\n",
        "# Upload file from your computer\n",
        "uploaded = files.upload()\n",
        "\n",
        "# Load the CSV (replace 'filename.csv' with your actual filename)\n",
        "df = pd.read_csv('Salary_Data.csv')"
      ]
    },
    {
      "cell_type": "code",
      "execution_count": 3,
      "metadata": {
        "colab": {
          "base_uri": "https://localhost:8080/",
          "height": 356
        },
        "id": "KjboXMH1SVGJ",
        "outputId": "a783399a-4363-47d5-9558-9f37c93974e7"
      },
      "outputs": [
        {
          "ename": "MessageError",
          "evalue": "Error: credential propagation was unsuccessful",
          "output_type": "error",
          "traceback": [
            "\u001b[0;31m---------------------------------------------------------------------------\u001b[0m",
            "\u001b[0;31mMessageError\u001b[0m                              Traceback (most recent call last)",
            "\u001b[0;32m/tmp/ipython-input-933987421.py\u001b[0m in \u001b[0;36m<cell line: 0>\u001b[0;34m()\u001b[0m\n\u001b[1;32m      3\u001b[0m \u001b[0;34m\u001b[0m\u001b[0m\n\u001b[1;32m      4\u001b[0m \u001b[0;31m# Mount Google Drive\u001b[0m\u001b[0;34m\u001b[0m\u001b[0;34m\u001b[0m\u001b[0m\n\u001b[0;32m----> 5\u001b[0;31m \u001b[0mdrive\u001b[0m\u001b[0;34m.\u001b[0m\u001b[0mmount\u001b[0m\u001b[0;34m(\u001b[0m\u001b[0;34m'/content/drive'\u001b[0m\u001b[0;34m)\u001b[0m\u001b[0;34m\u001b[0m\u001b[0;34m\u001b[0m\u001b[0m\n\u001b[0m\u001b[1;32m      6\u001b[0m \u001b[0;34m\u001b[0m\u001b[0m\n\u001b[1;32m      7\u001b[0m \u001b[0;31m# Load CSV from Drive\u001b[0m\u001b[0;34m\u001b[0m\u001b[0;34m\u001b[0m\u001b[0m\n",
            "\u001b[0;32m/usr/local/lib/python3.12/dist-packages/google/colab/drive.py\u001b[0m in \u001b[0;36mmount\u001b[0;34m(mountpoint, force_remount, timeout_ms, readonly)\u001b[0m\n\u001b[1;32m     95\u001b[0m \u001b[0;32mdef\u001b[0m \u001b[0mmount\u001b[0m\u001b[0;34m(\u001b[0m\u001b[0mmountpoint\u001b[0m\u001b[0;34m,\u001b[0m \u001b[0mforce_remount\u001b[0m\u001b[0;34m=\u001b[0m\u001b[0;32mFalse\u001b[0m\u001b[0;34m,\u001b[0m \u001b[0mtimeout_ms\u001b[0m\u001b[0;34m=\u001b[0m\u001b[0;36m120000\u001b[0m\u001b[0;34m,\u001b[0m \u001b[0mreadonly\u001b[0m\u001b[0;34m=\u001b[0m\u001b[0;32mFalse\u001b[0m\u001b[0;34m)\u001b[0m\u001b[0;34m:\u001b[0m\u001b[0;34m\u001b[0m\u001b[0;34m\u001b[0m\u001b[0m\n\u001b[1;32m     96\u001b[0m   \u001b[0;34m\"\"\"Mount your Google Drive at the specified mountpoint path.\"\"\"\u001b[0m\u001b[0;34m\u001b[0m\u001b[0;34m\u001b[0m\u001b[0m\n\u001b[0;32m---> 97\u001b[0;31m   return _mount(\n\u001b[0m\u001b[1;32m     98\u001b[0m       \u001b[0mmountpoint\u001b[0m\u001b[0;34m,\u001b[0m\u001b[0;34m\u001b[0m\u001b[0;34m\u001b[0m\u001b[0m\n\u001b[1;32m     99\u001b[0m       \u001b[0mforce_remount\u001b[0m\u001b[0;34m=\u001b[0m\u001b[0mforce_remount\u001b[0m\u001b[0;34m,\u001b[0m\u001b[0;34m\u001b[0m\u001b[0;34m\u001b[0m\u001b[0m\n",
            "\u001b[0;32m/usr/local/lib/python3.12/dist-packages/google/colab/drive.py\u001b[0m in \u001b[0;36m_mount\u001b[0;34m(mountpoint, force_remount, timeout_ms, ephemeral, readonly)\u001b[0m\n\u001b[1;32m    132\u001b[0m   )\n\u001b[1;32m    133\u001b[0m   \u001b[0;32mif\u001b[0m \u001b[0mephemeral\u001b[0m\u001b[0;34m:\u001b[0m\u001b[0;34m\u001b[0m\u001b[0;34m\u001b[0m\u001b[0m\n\u001b[0;32m--> 134\u001b[0;31m     _message.blocking_request(\n\u001b[0m\u001b[1;32m    135\u001b[0m         \u001b[0;34m'request_auth'\u001b[0m\u001b[0;34m,\u001b[0m\u001b[0;34m\u001b[0m\u001b[0;34m\u001b[0m\u001b[0m\n\u001b[1;32m    136\u001b[0m         \u001b[0mrequest\u001b[0m\u001b[0;34m=\u001b[0m\u001b[0;34m{\u001b[0m\u001b[0;34m'authType'\u001b[0m\u001b[0;34m:\u001b[0m \u001b[0;34m'dfs_ephemeral'\u001b[0m\u001b[0;34m}\u001b[0m\u001b[0;34m,\u001b[0m\u001b[0;34m\u001b[0m\u001b[0;34m\u001b[0m\u001b[0m\n",
            "\u001b[0;32m/usr/local/lib/python3.12/dist-packages/google/colab/_message.py\u001b[0m in \u001b[0;36mblocking_request\u001b[0;34m(request_type, request, timeout_sec, parent)\u001b[0m\n\u001b[1;32m    174\u001b[0m       \u001b[0mrequest_type\u001b[0m\u001b[0;34m,\u001b[0m \u001b[0mrequest\u001b[0m\u001b[0;34m,\u001b[0m \u001b[0mparent\u001b[0m\u001b[0;34m=\u001b[0m\u001b[0mparent\u001b[0m\u001b[0;34m,\u001b[0m \u001b[0mexpect_reply\u001b[0m\u001b[0;34m=\u001b[0m\u001b[0;32mTrue\u001b[0m\u001b[0;34m\u001b[0m\u001b[0;34m\u001b[0m\u001b[0m\n\u001b[1;32m    175\u001b[0m   )\n\u001b[0;32m--> 176\u001b[0;31m   \u001b[0;32mreturn\u001b[0m \u001b[0mread_reply_from_input\u001b[0m\u001b[0;34m(\u001b[0m\u001b[0mrequest_id\u001b[0m\u001b[0;34m,\u001b[0m \u001b[0mtimeout_sec\u001b[0m\u001b[0;34m)\u001b[0m\u001b[0;34m\u001b[0m\u001b[0;34m\u001b[0m\u001b[0m\n\u001b[0m",
            "\u001b[0;32m/usr/local/lib/python3.12/dist-packages/google/colab/_message.py\u001b[0m in \u001b[0;36mread_reply_from_input\u001b[0;34m(message_id, timeout_sec)\u001b[0m\n\u001b[1;32m    101\u001b[0m     ):\n\u001b[1;32m    102\u001b[0m       \u001b[0;32mif\u001b[0m \u001b[0;34m'error'\u001b[0m \u001b[0;32min\u001b[0m \u001b[0mreply\u001b[0m\u001b[0;34m:\u001b[0m\u001b[0;34m\u001b[0m\u001b[0;34m\u001b[0m\u001b[0m\n\u001b[0;32m--> 103\u001b[0;31m         \u001b[0;32mraise\u001b[0m \u001b[0mMessageError\u001b[0m\u001b[0;34m(\u001b[0m\u001b[0mreply\u001b[0m\u001b[0;34m[\u001b[0m\u001b[0;34m'error'\u001b[0m\u001b[0;34m]\u001b[0m\u001b[0;34m)\u001b[0m\u001b[0;34m\u001b[0m\u001b[0;34m\u001b[0m\u001b[0m\n\u001b[0m\u001b[1;32m    104\u001b[0m       \u001b[0;32mreturn\u001b[0m \u001b[0mreply\u001b[0m\u001b[0;34m.\u001b[0m\u001b[0mget\u001b[0m\u001b[0;34m(\u001b[0m\u001b[0;34m'data'\u001b[0m\u001b[0;34m,\u001b[0m \u001b[0;32mNone\u001b[0m\u001b[0;34m)\u001b[0m\u001b[0;34m\u001b[0m\u001b[0;34m\u001b[0m\u001b[0m\n\u001b[1;32m    105\u001b[0m \u001b[0;34m\u001b[0m\u001b[0m\n",
            "\u001b[0;31mMessageError\u001b[0m: Error: credential propagation was unsuccessful"
          ]
        }
      ],
      "source": [
        "from google.colab import drive\n",
        "import pandas as pd\n",
        "\n",
        "# Mount Google Drive\n",
        "drive.mount('/content/drive')\n",
        "\n",
        "# Load CSV from Drive\n",
        "df = pd.read_csv('/content/drive/My Drive/path/to/your/Salary_Data.csv')"
      ]
    },
    {
      "cell_type": "code",
      "execution_count": null,
      "metadata": {
        "id": "ePKxfxb1S6da"
      },
      "outputs": [],
      "source": [
        "import pandas as pd\n",
        "\n",
        "# Load CSV directly from a URL\n",
        "url = 'https://example.com/data.csv'\n",
        "df = pd.read_csv(url)"
      ]
    },
    {
      "cell_type": "code",
      "execution_count": null,
      "metadata": {
        "id": "QOtqq8PqWKrz"
      },
      "outputs": [],
      "source": [
        "\n",
        "# Get the filename (assuming one file uploaded)\n",
        "filename = list(uploaded.keys())[0]\n",
        "df = pd.read_csv(filename)"
      ]
    },
    {
      "cell_type": "code",
      "execution_count": null,
      "metadata": {
        "id": "a4lxii14WLna"
      },
      "outputs": [],
      "source": [
        "# Step 3: Explore the data\n",
        "print(\"Dataset shape:\", df.shape)\n",
        "print(\"\\nFirst 5 rows:\")\n",
        "print(df.head())\n",
        "\n",
        "print(\"\\nDataset info:\")\n",
        "print(df.info())"
      ]
    },
    {
      "cell_type": "code",
      "execution_count": 13,
      "metadata": {
        "colab": {
          "base_uri": "https://localhost:8080/"
        },
        "id": "hVDL7i4LUM3S",
        "outputId": "b7d8a605-7cf3-45bd-a815-893b6d2c6ce9"
      },
      "outputs": [
        {
          "name": "stdout",
          "output_type": "stream",
          "text": [
            "    YearsExperience    Salary\n",
            "0               1.1   39343.0\n",
            "1               1.3   46205.0\n",
            "2               1.5   37731.0\n",
            "3               2.0   43525.0\n",
            "4               2.2   39891.0\n",
            "5               2.9   56642.0\n",
            "6               3.0   60150.0\n",
            "7               3.2   54445.0\n",
            "8               3.2   64445.0\n",
            "9               3.7   57189.0\n",
            "10              3.9   63218.0\n",
            "11              4.0   55794.0\n",
            "12              4.0   56957.0\n",
            "13              4.1   57081.0\n",
            "14              4.5   61111.0\n",
            "15              4.9   67938.0\n",
            "16              5.1   66029.0\n",
            "17              5.3   83088.0\n",
            "18              5.9   81363.0\n",
            "19              6.0   93940.0\n",
            "20              6.8   91738.0\n",
            "21              7.1   98273.0\n",
            "22              7.9  101302.0\n",
            "23              8.2  113812.0\n",
            "24              8.7  109431.0\n",
            "25              9.0  105582.0\n",
            "26              9.5  116969.0\n",
            "27              9.6  112635.0\n",
            "28             10.3  122391.0\n",
            "29             10.5  121872.0\n",
            "First row:\n",
            "YearsExperience        1.1\n",
            "Salary             39343.0\n",
            "Name: 0, dtype: float64\n"
          ]
        }
      ],
      "source": [
        "# Display the dataframe first\n",
        "print(df)\n",
        "\n",
        "# Select first row\n",
        "first_row = df.iloc[0]\n",
        "print(\"First row:\")\n",
        "print(first_row)"
      ]
    },
    {
      "cell_type": "code",
      "execution_count": 30,
      "metadata": {
        "id": "_EnF5ROQd4mP"
      },
      "outputs": [],
      "source": [
        "X=df.iloc[:,:-1].values\n",
        "y=df.iloc[:,1].values"
      ]
    },
    {
      "cell_type": "code",
      "execution_count": 45,
      "metadata": {
        "id": "vQgeXqy-a-kj"
      },
      "outputs": [],
      "source": [
        "from sklearn.model_selection import train_test_split\n",
        "X_train, X_test, y_train, y_test = train_test_split(X, y, test_size = 1/3) #random is not assigned\n"
      ]
    },
    {
      "cell_type": "code",
      "execution_count": 46,
      "metadata": {
        "colab": {
          "base_uri": "https://localhost:8080/"
        },
        "id": "e1PXuQ7YduYJ",
        "outputId": "5ee57699-13af-46c7-fcfe-0fae57012112"
      },
      "outputs": [
        {
          "name": "stdout",
          "output_type": "stream",
          "text": [
            "[[ 3.9]\n",
            " [10.3]\n",
            " [ 3. ]\n",
            " [ 5.3]\n",
            " [ 4. ]\n",
            " [ 8.2]\n",
            " [ 9. ]\n",
            " [ 1.1]\n",
            " [ 1.3]\n",
            " [ 2.9]\n",
            " [ 3.7]\n",
            " [ 7.1]\n",
            " [ 2. ]\n",
            " [ 6. ]\n",
            " [ 4.1]\n",
            " [ 1.5]\n",
            " [ 5.9]\n",
            " [ 4.5]\n",
            " [ 4. ]\n",
            " [ 3.2]]\n"
          ]
        }
      ],
      "source": [
        "print(X_train)"
      ]
    },
    {
      "cell_type": "code",
      "execution_count": 41,
      "metadata": {
        "id": "MqMm90Nye8Pv"
      },
      "outputs": [],
      "source": [
        "from sklearn.model_selection import train_test_split\n",
        "X_train, X_test, y_train, y_test = train_test_split(X, y, test_size = 1/3, random_state = 0)"
      ]
    },
    {
      "cell_type": "code",
      "execution_count": 42,
      "metadata": {
        "colab": {
          "base_uri": "https://localhost:8080/"
        },
        "id": "JaZ0-s0mfA1I",
        "outputId": "716cb1e7-c9cc-47ac-86ad-5c24fa9f5b68"
      },
      "outputs": [
        {
          "name": "stdout",
          "output_type": "stream",
          "text": [
            "[[ 2.9]\n",
            " [ 5.1]\n",
            " [ 3.2]\n",
            " [ 4.5]\n",
            " [ 8.2]\n",
            " [ 6.8]\n",
            " [ 1.3]\n",
            " [10.5]\n",
            " [ 3. ]\n",
            " [ 2.2]\n",
            " [ 5.9]\n",
            " [ 6. ]\n",
            " [ 3.7]\n",
            " [ 3.2]\n",
            " [ 9. ]\n",
            " [ 2. ]\n",
            " [ 1.1]\n",
            " [ 7.1]\n",
            " [ 4.9]\n",
            " [ 4. ]]\n"
          ]
        }
      ],
      "source": [
        "print(X_train)"
      ]
    },
    {
      "cell_type": "code",
      "execution_count": 47,
      "metadata": {
        "id": "Q8kQhSo_inDM"
      },
      "outputs": [],
      "source": [
        "from sklearn.model_selection import train_test_split\n",
        "X_train, X_test, y_train, y_test = train_test_split(X, y, test_size = 1/3, random_state = 42)"
      ]
    },
    {
      "cell_type": "code",
      "execution_count": 48,
      "metadata": {
        "colab": {
          "base_uri": "https://localhost:8080/"
        },
        "collapsed": true,
        "id": "b6XUsj0UisZj",
        "outputId": "aefe4714-b535-4fef-ecaf-77ef19701c42"
      },
      "outputs": [
        {
          "name": "stdout",
          "output_type": "stream",
          "text": [
            "[[ 2.2]\n",
            " [ 5.1]\n",
            " [ 2.9]\n",
            " [ 4.1]\n",
            " [ 4. ]\n",
            " [ 7.9]\n",
            " [ 1.3]\n",
            " [ 1.5]\n",
            " [ 9. ]\n",
            " [ 2. ]\n",
            " [ 7.1]\n",
            " [ 9.5]\n",
            " [ 5.9]\n",
            " [10.5]\n",
            " [ 6.8]\n",
            " [ 3.2]\n",
            " [ 3.9]\n",
            " [ 4.5]\n",
            " [ 6. ]\n",
            " [ 3. ]]\n"
          ]
        }
      ],
      "source": [
        "print(X_train)"
      ]
    },
    {
      "cell_type": "code",
      "execution_count": 49,
      "metadata": {
        "colab": {
          "base_uri": "https://localhost:8080/",
          "height": 79
        },
        "id": "sW0fPfhpiWN2",
        "outputId": "0c75ba8d-ee35-4152-aec4-14e78b1febea"
      },
      "outputs": [
        {
          "data": {
            "text/html": [
              "<style>#sk-container-id-1 {\n",
              "  /* Definition of color scheme common for light and dark mode */\n",
              "  --sklearn-color-text: #000;\n",
              "  --sklearn-color-text-muted: #666;\n",
              "  --sklearn-color-line: gray;\n",
              "  /* Definition of color scheme for unfitted estimators */\n",
              "  --sklearn-color-unfitted-level-0: #fff5e6;\n",
              "  --sklearn-color-unfitted-level-1: #f6e4d2;\n",
              "  --sklearn-color-unfitted-level-2: #ffe0b3;\n",
              "  --sklearn-color-unfitted-level-3: chocolate;\n",
              "  /* Definition of color scheme for fitted estimators */\n",
              "  --sklearn-color-fitted-level-0: #f0f8ff;\n",
              "  --sklearn-color-fitted-level-1: #d4ebff;\n",
              "  --sklearn-color-fitted-level-2: #b3dbfd;\n",
              "  --sklearn-color-fitted-level-3: cornflowerblue;\n",
              "\n",
              "  /* Specific color for light theme */\n",
              "  --sklearn-color-text-on-default-background: var(--sg-text-color, var(--theme-code-foreground, var(--jp-content-font-color1, black)));\n",
              "  --sklearn-color-background: var(--sg-background-color, var(--theme-background, var(--jp-layout-color0, white)));\n",
              "  --sklearn-color-border-box: var(--sg-text-color, var(--theme-code-foreground, var(--jp-content-font-color1, black)));\n",
              "  --sklearn-color-icon: #696969;\n",
              "\n",
              "  @media (prefers-color-scheme: dark) {\n",
              "    /* Redefinition of color scheme for dark theme */\n",
              "    --sklearn-color-text-on-default-background: var(--sg-text-color, var(--theme-code-foreground, var(--jp-content-font-color1, white)));\n",
              "    --sklearn-color-background: var(--sg-background-color, var(--theme-background, var(--jp-layout-color0, #111)));\n",
              "    --sklearn-color-border-box: var(--sg-text-color, var(--theme-code-foreground, var(--jp-content-font-color1, white)));\n",
              "    --sklearn-color-icon: #878787;\n",
              "  }\n",
              "}\n",
              "\n",
              "#sk-container-id-1 {\n",
              "  color: var(--sklearn-color-text);\n",
              "}\n",
              "\n",
              "#sk-container-id-1 pre {\n",
              "  padding: 0;\n",
              "}\n",
              "\n",
              "#sk-container-id-1 input.sk-hidden--visually {\n",
              "  border: 0;\n",
              "  clip: rect(1px 1px 1px 1px);\n",
              "  clip: rect(1px, 1px, 1px, 1px);\n",
              "  height: 1px;\n",
              "  margin: -1px;\n",
              "  overflow: hidden;\n",
              "  padding: 0;\n",
              "  position: absolute;\n",
              "  width: 1px;\n",
              "}\n",
              "\n",
              "#sk-container-id-1 div.sk-dashed-wrapped {\n",
              "  border: 1px dashed var(--sklearn-color-line);\n",
              "  margin: 0 0.4em 0.5em 0.4em;\n",
              "  box-sizing: border-box;\n",
              "  padding-bottom: 0.4em;\n",
              "  background-color: var(--sklearn-color-background);\n",
              "}\n",
              "\n",
              "#sk-container-id-1 div.sk-container {\n",
              "  /* jupyter's `normalize.less` sets `[hidden] { display: none; }`\n",
              "     but bootstrap.min.css set `[hidden] { display: none !important; }`\n",
              "     so we also need the `!important` here to be able to override the\n",
              "     default hidden behavior on the sphinx rendered scikit-learn.org.\n",
              "     See: https://github.com/scikit-learn/scikit-learn/issues/21755 */\n",
              "  display: inline-block !important;\n",
              "  position: relative;\n",
              "}\n",
              "\n",
              "#sk-container-id-1 div.sk-text-repr-fallback {\n",
              "  display: none;\n",
              "}\n",
              "\n",
              "div.sk-parallel-item,\n",
              "div.sk-serial,\n",
              "div.sk-item {\n",
              "  /* draw centered vertical line to link estimators */\n",
              "  background-image: linear-gradient(var(--sklearn-color-text-on-default-background), var(--sklearn-color-text-on-default-background));\n",
              "  background-size: 2px 100%;\n",
              "  background-repeat: no-repeat;\n",
              "  background-position: center center;\n",
              "}\n",
              "\n",
              "/* Parallel-specific style estimator block */\n",
              "\n",
              "#sk-container-id-1 div.sk-parallel-item::after {\n",
              "  content: \"\";\n",
              "  width: 100%;\n",
              "  border-bottom: 2px solid var(--sklearn-color-text-on-default-background);\n",
              "  flex-grow: 1;\n",
              "}\n",
              "\n",
              "#sk-container-id-1 div.sk-parallel {\n",
              "  display: flex;\n",
              "  align-items: stretch;\n",
              "  justify-content: center;\n",
              "  background-color: var(--sklearn-color-background);\n",
              "  position: relative;\n",
              "}\n",
              "\n",
              "#sk-container-id-1 div.sk-parallel-item {\n",
              "  display: flex;\n",
              "  flex-direction: column;\n",
              "}\n",
              "\n",
              "#sk-container-id-1 div.sk-parallel-item:first-child::after {\n",
              "  align-self: flex-end;\n",
              "  width: 50%;\n",
              "}\n",
              "\n",
              "#sk-container-id-1 div.sk-parallel-item:last-child::after {\n",
              "  align-self: flex-start;\n",
              "  width: 50%;\n",
              "}\n",
              "\n",
              "#sk-container-id-1 div.sk-parallel-item:only-child::after {\n",
              "  width: 0;\n",
              "}\n",
              "\n",
              "/* Serial-specific style estimator block */\n",
              "\n",
              "#sk-container-id-1 div.sk-serial {\n",
              "  display: flex;\n",
              "  flex-direction: column;\n",
              "  align-items: center;\n",
              "  background-color: var(--sklearn-color-background);\n",
              "  padding-right: 1em;\n",
              "  padding-left: 1em;\n",
              "}\n",
              "\n",
              "\n",
              "/* Toggleable style: style used for estimator/Pipeline/ColumnTransformer box that is\n",
              "clickable and can be expanded/collapsed.\n",
              "- Pipeline and ColumnTransformer use this feature and define the default style\n",
              "- Estimators will overwrite some part of the style using the `sk-estimator` class\n",
              "*/\n",
              "\n",
              "/* Pipeline and ColumnTransformer style (default) */\n",
              "\n",
              "#sk-container-id-1 div.sk-toggleable {\n",
              "  /* Default theme specific background. It is overwritten whether we have a\n",
              "  specific estimator or a Pipeline/ColumnTransformer */\n",
              "  background-color: var(--sklearn-color-background);\n",
              "}\n",
              "\n",
              "/* Toggleable label */\n",
              "#sk-container-id-1 label.sk-toggleable__label {\n",
              "  cursor: pointer;\n",
              "  display: flex;\n",
              "  width: 100%;\n",
              "  margin-bottom: 0;\n",
              "  padding: 0.5em;\n",
              "  box-sizing: border-box;\n",
              "  text-align: center;\n",
              "  align-items: start;\n",
              "  justify-content: space-between;\n",
              "  gap: 0.5em;\n",
              "}\n",
              "\n",
              "#sk-container-id-1 label.sk-toggleable__label .caption {\n",
              "  font-size: 0.6rem;\n",
              "  font-weight: lighter;\n",
              "  color: var(--sklearn-color-text-muted);\n",
              "}\n",
              "\n",
              "#sk-container-id-1 label.sk-toggleable__label-arrow:before {\n",
              "  /* Arrow on the left of the label */\n",
              "  content: \"▸\";\n",
              "  float: left;\n",
              "  margin-right: 0.25em;\n",
              "  color: var(--sklearn-color-icon);\n",
              "}\n",
              "\n",
              "#sk-container-id-1 label.sk-toggleable__label-arrow:hover:before {\n",
              "  color: var(--sklearn-color-text);\n",
              "}\n",
              "\n",
              "/* Toggleable content - dropdown */\n",
              "\n",
              "#sk-container-id-1 div.sk-toggleable__content {\n",
              "  max-height: 0;\n",
              "  max-width: 0;\n",
              "  overflow: hidden;\n",
              "  text-align: left;\n",
              "  /* unfitted */\n",
              "  background-color: var(--sklearn-color-unfitted-level-0);\n",
              "}\n",
              "\n",
              "#sk-container-id-1 div.sk-toggleable__content.fitted {\n",
              "  /* fitted */\n",
              "  background-color: var(--sklearn-color-fitted-level-0);\n",
              "}\n",
              "\n",
              "#sk-container-id-1 div.sk-toggleable__content pre {\n",
              "  margin: 0.2em;\n",
              "  border-radius: 0.25em;\n",
              "  color: var(--sklearn-color-text);\n",
              "  /* unfitted */\n",
              "  background-color: var(--sklearn-color-unfitted-level-0);\n",
              "}\n",
              "\n",
              "#sk-container-id-1 div.sk-toggleable__content.fitted pre {\n",
              "  /* unfitted */\n",
              "  background-color: var(--sklearn-color-fitted-level-0);\n",
              "}\n",
              "\n",
              "#sk-container-id-1 input.sk-toggleable__control:checked~div.sk-toggleable__content {\n",
              "  /* Expand drop-down */\n",
              "  max-height: 200px;\n",
              "  max-width: 100%;\n",
              "  overflow: auto;\n",
              "}\n",
              "\n",
              "#sk-container-id-1 input.sk-toggleable__control:checked~label.sk-toggleable__label-arrow:before {\n",
              "  content: \"▾\";\n",
              "}\n",
              "\n",
              "/* Pipeline/ColumnTransformer-specific style */\n",
              "\n",
              "#sk-container-id-1 div.sk-label input.sk-toggleable__control:checked~label.sk-toggleable__label {\n",
              "  color: var(--sklearn-color-text);\n",
              "  background-color: var(--sklearn-color-unfitted-level-2);\n",
              "}\n",
              "\n",
              "#sk-container-id-1 div.sk-label.fitted input.sk-toggleable__control:checked~label.sk-toggleable__label {\n",
              "  background-color: var(--sklearn-color-fitted-level-2);\n",
              "}\n",
              "\n",
              "/* Estimator-specific style */\n",
              "\n",
              "/* Colorize estimator box */\n",
              "#sk-container-id-1 div.sk-estimator input.sk-toggleable__control:checked~label.sk-toggleable__label {\n",
              "  /* unfitted */\n",
              "  background-color: var(--sklearn-color-unfitted-level-2);\n",
              "}\n",
              "\n",
              "#sk-container-id-1 div.sk-estimator.fitted input.sk-toggleable__control:checked~label.sk-toggleable__label {\n",
              "  /* fitted */\n",
              "  background-color: var(--sklearn-color-fitted-level-2);\n",
              "}\n",
              "\n",
              "#sk-container-id-1 div.sk-label label.sk-toggleable__label,\n",
              "#sk-container-id-1 div.sk-label label {\n",
              "  /* The background is the default theme color */\n",
              "  color: var(--sklearn-color-text-on-default-background);\n",
              "}\n",
              "\n",
              "/* On hover, darken the color of the background */\n",
              "#sk-container-id-1 div.sk-label:hover label.sk-toggleable__label {\n",
              "  color: var(--sklearn-color-text);\n",
              "  background-color: var(--sklearn-color-unfitted-level-2);\n",
              "}\n",
              "\n",
              "/* Label box, darken color on hover, fitted */\n",
              "#sk-container-id-1 div.sk-label.fitted:hover label.sk-toggleable__label.fitted {\n",
              "  color: var(--sklearn-color-text);\n",
              "  background-color: var(--sklearn-color-fitted-level-2);\n",
              "}\n",
              "\n",
              "/* Estimator label */\n",
              "\n",
              "#sk-container-id-1 div.sk-label label {\n",
              "  font-family: monospace;\n",
              "  font-weight: bold;\n",
              "  display: inline-block;\n",
              "  line-height: 1.2em;\n",
              "}\n",
              "\n",
              "#sk-container-id-1 div.sk-label-container {\n",
              "  text-align: center;\n",
              "}\n",
              "\n",
              "/* Estimator-specific */\n",
              "#sk-container-id-1 div.sk-estimator {\n",
              "  font-family: monospace;\n",
              "  border: 1px dotted var(--sklearn-color-border-box);\n",
              "  border-radius: 0.25em;\n",
              "  box-sizing: border-box;\n",
              "  margin-bottom: 0.5em;\n",
              "  /* unfitted */\n",
              "  background-color: var(--sklearn-color-unfitted-level-0);\n",
              "}\n",
              "\n",
              "#sk-container-id-1 div.sk-estimator.fitted {\n",
              "  /* fitted */\n",
              "  background-color: var(--sklearn-color-fitted-level-0);\n",
              "}\n",
              "\n",
              "/* on hover */\n",
              "#sk-container-id-1 div.sk-estimator:hover {\n",
              "  /* unfitted */\n",
              "  background-color: var(--sklearn-color-unfitted-level-2);\n",
              "}\n",
              "\n",
              "#sk-container-id-1 div.sk-estimator.fitted:hover {\n",
              "  /* fitted */\n",
              "  background-color: var(--sklearn-color-fitted-level-2);\n",
              "}\n",
              "\n",
              "/* Specification for estimator info (e.g. \"i\" and \"?\") */\n",
              "\n",
              "/* Common style for \"i\" and \"?\" */\n",
              "\n",
              ".sk-estimator-doc-link,\n",
              "a:link.sk-estimator-doc-link,\n",
              "a:visited.sk-estimator-doc-link {\n",
              "  float: right;\n",
              "  font-size: smaller;\n",
              "  line-height: 1em;\n",
              "  font-family: monospace;\n",
              "  background-color: var(--sklearn-color-background);\n",
              "  border-radius: 1em;\n",
              "  height: 1em;\n",
              "  width: 1em;\n",
              "  text-decoration: none !important;\n",
              "  margin-left: 0.5em;\n",
              "  text-align: center;\n",
              "  /* unfitted */\n",
              "  border: var(--sklearn-color-unfitted-level-1) 1pt solid;\n",
              "  color: var(--sklearn-color-unfitted-level-1);\n",
              "}\n",
              "\n",
              ".sk-estimator-doc-link.fitted,\n",
              "a:link.sk-estimator-doc-link.fitted,\n",
              "a:visited.sk-estimator-doc-link.fitted {\n",
              "  /* fitted */\n",
              "  border: var(--sklearn-color-fitted-level-1) 1pt solid;\n",
              "  color: var(--sklearn-color-fitted-level-1);\n",
              "}\n",
              "\n",
              "/* On hover */\n",
              "div.sk-estimator:hover .sk-estimator-doc-link:hover,\n",
              ".sk-estimator-doc-link:hover,\n",
              "div.sk-label-container:hover .sk-estimator-doc-link:hover,\n",
              ".sk-estimator-doc-link:hover {\n",
              "  /* unfitted */\n",
              "  background-color: var(--sklearn-color-unfitted-level-3);\n",
              "  color: var(--sklearn-color-background);\n",
              "  text-decoration: none;\n",
              "}\n",
              "\n",
              "div.sk-estimator.fitted:hover .sk-estimator-doc-link.fitted:hover,\n",
              ".sk-estimator-doc-link.fitted:hover,\n",
              "div.sk-label-container:hover .sk-estimator-doc-link.fitted:hover,\n",
              ".sk-estimator-doc-link.fitted:hover {\n",
              "  /* fitted */\n",
              "  background-color: var(--sklearn-color-fitted-level-3);\n",
              "  color: var(--sklearn-color-background);\n",
              "  text-decoration: none;\n",
              "}\n",
              "\n",
              "/* Span, style for the box shown on hovering the info icon */\n",
              ".sk-estimator-doc-link span {\n",
              "  display: none;\n",
              "  z-index: 9999;\n",
              "  position: relative;\n",
              "  font-weight: normal;\n",
              "  right: .2ex;\n",
              "  padding: .5ex;\n",
              "  margin: .5ex;\n",
              "  width: min-content;\n",
              "  min-width: 20ex;\n",
              "  max-width: 50ex;\n",
              "  color: var(--sklearn-color-text);\n",
              "  box-shadow: 2pt 2pt 4pt #999;\n",
              "  /* unfitted */\n",
              "  background: var(--sklearn-color-unfitted-level-0);\n",
              "  border: .5pt solid var(--sklearn-color-unfitted-level-3);\n",
              "}\n",
              "\n",
              ".sk-estimator-doc-link.fitted span {\n",
              "  /* fitted */\n",
              "  background: var(--sklearn-color-fitted-level-0);\n",
              "  border: var(--sklearn-color-fitted-level-3);\n",
              "}\n",
              "\n",
              ".sk-estimator-doc-link:hover span {\n",
              "  display: block;\n",
              "}\n",
              "\n",
              "/* \"?\"-specific style due to the `<a>` HTML tag */\n",
              "\n",
              "#sk-container-id-1 a.estimator_doc_link {\n",
              "  float: right;\n",
              "  font-size: 1rem;\n",
              "  line-height: 1em;\n",
              "  font-family: monospace;\n",
              "  background-color: var(--sklearn-color-background);\n",
              "  border-radius: 1rem;\n",
              "  height: 1rem;\n",
              "  width: 1rem;\n",
              "  text-decoration: none;\n",
              "  /* unfitted */\n",
              "  color: var(--sklearn-color-unfitted-level-1);\n",
              "  border: var(--sklearn-color-unfitted-level-1) 1pt solid;\n",
              "}\n",
              "\n",
              "#sk-container-id-1 a.estimator_doc_link.fitted {\n",
              "  /* fitted */\n",
              "  border: var(--sklearn-color-fitted-level-1) 1pt solid;\n",
              "  color: var(--sklearn-color-fitted-level-1);\n",
              "}\n",
              "\n",
              "/* On hover */\n",
              "#sk-container-id-1 a.estimator_doc_link:hover {\n",
              "  /* unfitted */\n",
              "  background-color: var(--sklearn-color-unfitted-level-3);\n",
              "  color: var(--sklearn-color-background);\n",
              "  text-decoration: none;\n",
              "}\n",
              "\n",
              "#sk-container-id-1 a.estimator_doc_link.fitted:hover {\n",
              "  /* fitted */\n",
              "  background-color: var(--sklearn-color-fitted-level-3);\n",
              "}\n",
              "</style><div id=\"sk-container-id-1\" class=\"sk-top-container\"><div class=\"sk-text-repr-fallback\"><pre>LinearRegression()</pre><b>In a Jupyter environment, please rerun this cell to show the HTML representation or trust the notebook. <br />On GitHub, the HTML representation is unable to render, please try loading this page with nbviewer.org.</b></div><div class=\"sk-container\" hidden><div class=\"sk-item\"><div class=\"sk-estimator fitted sk-toggleable\"><input class=\"sk-toggleable__control sk-hidden--visually\" id=\"sk-estimator-id-1\" type=\"checkbox\" checked><label for=\"sk-estimator-id-1\" class=\"sk-toggleable__label fitted sk-toggleable__label-arrow\"><div><div>LinearRegression</div></div><div><a class=\"sk-estimator-doc-link fitted\" rel=\"noreferrer\" target=\"_blank\" href=\"https://scikit-learn.org/1.6/modules/generated/sklearn.linear_model.LinearRegression.html\">?<span>Documentation for LinearRegression</span></a><span class=\"sk-estimator-doc-link fitted\">i<span>Fitted</span></span></div></label><div class=\"sk-toggleable__content fitted\"><pre>LinearRegression()</pre></div> </div></div></div></div>"
            ],
            "text/plain": [
              "LinearRegression()"
            ]
          },
          "execution_count": 49,
          "metadata": {},
          "output_type": "execute_result"
        }
      ],
      "source": [
        "#linear Regression\n",
        "from sklearn.linear_model import LinearRegression\n",
        "regressor = LinearRegression() #called as a method\n",
        "regressor.fit(X_train, y_train)"
      ]
    },
    {
      "cell_type": "code",
      "execution_count": 50,
      "metadata": {
        "id": "9aKxSW54lX8y"
      },
      "outputs": [],
      "source": [
        "y_pred = regressor.predict(X_test)"
      ]
    },
    {
      "cell_type": "code",
      "execution_count": 51,
      "metadata": {
        "colab": {
          "base_uri": "https://localhost:8080/"
        },
        "id": "hU8hRfVDlgDx",
        "outputId": "6de41add-5cb5-460c-ad75-aae6a05a6fa6"
      },
      "outputs": [
        {
          "name": "stdout",
          "output_type": "stream",
          "text": [
            "[115814.30756236  71511.92534771 102617.85328566  75282.34085534\n",
            "  55487.65944028  60200.67882482 122412.53470072 107330.8726702\n",
            "  63028.49045554  35692.97802523]\n"
          ]
        }
      ],
      "source": [
        "print(y_pred)"
      ]
    },
    {
      "cell_type": "code",
      "execution_count": 52,
      "metadata": {
        "id": "HFfvPDRrmCcw"
      },
      "outputs": [],
      "source": [
        "import matplotlib.pyplot as plt\n"
      ]
    },
    {
      "cell_type": "code",
      "execution_count": 56,
      "metadata": {
        "colab": {
          "base_uri": "https://localhost:8080/",
          "height": 472
        },
        "collapsed": true,
        "id": "EDQPB8odmNDu",
        "outputId": "ff641541-c092-4d0e-b8d4-2c40b3ee9ef9"
      },
      "outputs": [
        {
          "data": {
            "image/png": "[encoded data removed]",
            "text/plain": [
              "<Figure size 640x480 with 1 Axes>"
            ]
          },
          "metadata": {},
          "output_type": "display_data"
        }
      ],
      "source": [
        "#scatter plot betwen trained value of X vs y\n",
        "plt.scatter(X_train, y_train, color = 'cyan')\n",
        "plt.plot(X_train, regressor.predict(X_train), color = 'orange')\n",
        "plt.title('Salary vs Experience (Training set)')\n",
        "plt.xlabel('Years of Experience')\n",
        "plt.ylabel('Salary')\n",
        "plt.show()"
      ]
    },
    {
      "cell_type": "code",
      "execution_count": 57,
      "metadata": {
        "colab": {
          "base_uri": "https://localhost:8080/",
          "height": 472
        },
        "id": "MysZrBFGm_XK",
        "outputId": "ab9fdc75-f5c7-4eac-c9e8-6f4ae2170c1e"
      },
      "outputs": [
        {
          "data": {
            "image/png": "[encoded data removed]",
            "text/plain": [
              "<Figure size 640x480 with 1 Axes>"
            ]
          },
          "metadata": {},
          "output_type": "display_data"
        }
      ],
      "source": [
        "\n",
        "plt.scatter(X_test, y_test, color = 'red')\n",
        "plt.plot(X_train, regressor.predict(X_train), color = 'blue')\n",
        "plt.title('Salary vs Experience (Test set)')\n",
        "plt.xlabel('Years of Experience')\n",
        "plt.ylabel('Salary')\n",
        "plt.show()"
      ]
    },
    {
      "cell_type": "markdown",
      "metadata": {
        "id": "RAn1tIejj7o0"
      },
      "source": [
        "![Untitled.jpg](data:image/jpeg;base64,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)"
      ]
    },
    {
      "cell_type": "code",
      "execution_count": null,
      "metadata": {
        "id": "u00lShRiibcV"
      },
      "outputs": [],
      "source": []
    },
    {
      "cell_type": "code",
      "execution_count": null,
      "metadata": {
        "id": "qf4BHuEOibZf"
      },
      "outputs": [],
      "source": []
    },
    {
      "cell_type": "code",
      "execution_count": null,
      "metadata": {
        "id": "nzS9rkEJibWr"
      },
      "outputs": [],
      "source": []
    },
    {
      "cell_type": "code",
      "execution_count": null,
      "metadata": {
        "id": "Q2telSXnibTz"
      },
      "outputs": [],
      "source": []
    },
    {
      "cell_type": "code",
      "execution_count": null,
      "metadata": {
        "id": "kUW4oT95ibRL"
      },
      "outputs": [],
      "source": []
    },
    {
      "cell_type": "code",
      "execution_count": null,
      "metadata": {
        "id": "LHRxxdhQibOu"
      },
      "outputs": [],
      "source": []
    },
    {
      "cell_type": "code",
      "execution_count": null,
      "metadata": {
        "id": "6cny-kk-ibL6"
      },
      "outputs": [],
      "source": []
    },
    {
      "cell_type": "code",
      "execution_count": null,
      "metadata": {
        "id": "pmThqxNCibJS"
      },
      "outputs": [],
      "source": []
    },
    {
      "cell_type": "code",
      "execution_count": null,
      "metadata": {
        "id": "9dn2cDHoibED"
      },
      "outputs": [],
      "source": []
    },
    {
      "cell_type": "code",
      "execution_count": null,
      "metadata": {
        "id": "OddfSAmmibBT"
      },
      "outputs": [],
      "source": []
    },
    {
      "cell_type": "code",
      "execution_count": null,
      "metadata": {
        "id": "o-M2NQlBia9Z"
      },
      "outputs": [],
      "source": []
    },
    {
      "cell_type": "markdown",
      "metadata": {},
      "source": []
    },
    {
      "cell_type": "code",
      "execution_count": null,
      "metadata": {
        "id": "Xx_ZBEjvia5p"
      },
      "outputs": [],
      "source": []
    },
    {
      "cell_type": "code",
      "execution_count": null,
      "metadata": {
        "id": "s18brbdDiaw2"
      },
      "outputs": [],
      "source": []
    },
    {
      "cell_type": "markdown",
      "metadata": {},
      "source": [
        "## BAsics of iloc"
      ]
    },
    {
      "cell_type": "code",
      "execution_count": 14,
      "metadata": {
        "colab": {
          "base_uri": "https://localhost:8080/"
        },
        "id": "OArpfN0RUPsh",
        "outputId": "702bd3db-748f-4b2c-8129-ed4c4ac44cb0"
      },
      "outputs": [
        {
          "name": "stdout",
          "output_type": "stream",
          "text": [
            "\n",
            "First two rows:\n",
            "   YearsExperience   Salary\n",
            "0              1.1  39343.0\n",
            "1              1.3  46205.0\n"
          ]
        }
      ],
      "source": [
        "# Select first 2 rows\n",
        "first_two_rows = df.iloc[0:2]\n",
        "print(\"\\nFirst two rows:\")\n",
        "print(first_two_rows)"
      ]
    },
    {
      "cell_type": "code",
      "execution_count": 15,
      "metadata": {
        "colab": {
          "base_uri": "https://localhost:8080/"
        },
        "id": "ZqPdqrmuUVNi",
        "outputId": "68faec70-088a-4606-d32e-e83e9147a0fb"
      },
      "outputs": [
        {
          "name": "stdout",
          "output_type": "stream",
          "text": [
            "\n",
            "1st and 3rd rows:\n",
            "   YearsExperience   Salary\n",
            "0              1.1  39343.0\n",
            "2              1.5  37731.0\n"
          ]
        }
      ],
      "source": [
        "# Select specific rows (1st and 3rd)\n",
        "specific_rows = df.iloc[[0, 2]]\n",
        "print(\"\\n1st and 3rd rows:\")\n",
        "print(specific_rows)"
      ]
    },
    {
      "cell_type": "code",
      "execution_count": 16,
      "metadata": {
        "colab": {
          "base_uri": "https://localhost:8080/"
        },
        "id": "HhJdgQWEUXSD",
        "outputId": "28b9a701-99a2-4e09-87fa-956e74179b3b"
      },
      "outputs": [
        {
          "name": "stdout",
          "output_type": "stream",
          "text": [
            "\n",
            "First two columns:\n",
            "    YearsExperience    Salary\n",
            "0               1.1   39343.0\n",
            "1               1.3   46205.0\n",
            "2               1.5   37731.0\n",
            "3               2.0   43525.0\n",
            "4               2.2   39891.0\n",
            "5               2.9   56642.0\n",
            "6               3.0   60150.0\n",
            "7               3.2   54445.0\n",
            "8               3.2   64445.0\n",
            "9               3.7   57189.0\n",
            "10              3.9   63218.0\n",
            "11              4.0   55794.0\n",
            "12              4.0   56957.0\n",
            "13              4.1   57081.0\n",
            "14              4.5   61111.0\n",
            "15              4.9   67938.0\n",
            "16              5.1   66029.0\n",
            "17              5.3   83088.0\n",
            "18              5.9   81363.0\n",
            "19              6.0   93940.0\n",
            "20              6.8   91738.0\n",
            "21              7.1   98273.0\n",
            "22              7.9  101302.0\n",
            "23              8.2  113812.0\n",
            "24              8.7  109431.0\n",
            "25              9.0  105582.0\n",
            "26              9.5  116969.0\n",
            "27              9.6  112635.0\n",
            "28             10.3  122391.0\n",
            "29             10.5  121872.0\n"
          ]
        }
      ],
      "source": [
        "# Select specific columns by position\n",
        "first_two_columns = df.iloc[:, 0:2]  # All rows, first 2 columns\n",
        "print(\"\\nFirst two columns:\")\n",
        "print(first_two_columns)"
      ]
    },
    {
      "cell_type": "code",
      "execution_count": 17,
      "metadata": {
        "colab": {
          "base_uri": "https://localhost:8080/"
        },
        "id": "B89rWl-0UZc0",
        "outputId": "5863b1ae-9e23-4654-b0ca-08510cc52ef3"
      },
      "outputs": [
        {
          "name": "stdout",
          "output_type": "stream",
          "text": [
            "\n",
            "Cell at row 0, column 1: 39343.0\n"
          ]
        }
      ],
      "source": [
        "# Select specific cell (row 0, column 1)\n",
        "specific_cell = df.iloc[0, 1]\n",
        "print(f\"\\nCell at row 0, column 1: {specific_cell}\")"
      ]
    },
    {
      "cell_type": "code",
      "execution_count": 18,
      "metadata": {
        "colab": {
          "base_uri": "https://localhost:8080/"
        },
        "id": "WSgRLWiWUces",
        "outputId": "e4ccf6fd-63d7-453e-c0a0-b8d7646feb05"
      },
      "outputs": [
        {
          "name": "stdout",
          "output_type": "stream",
          "text": [
            "\n",
            "Subset (rows 1-2, columns 1-2):\n",
            "    Salary\n",
            "1  46205.0\n",
            "2  37731.0\n"
          ]
        }
      ],
      "source": [
        "# Select subset of rows and columns\n",
        "subset = df.iloc[1:3, 1:3]  # Rows 1-2, Columns 1-2\n",
        "print(\"\\nSubset (rows 1-2, columns 1-2):\")\n",
        "print(subset)"
      ]
    },
    {
      "cell_type": "code",
      "execution_count": 7,
      "metadata": {
        "colab": {
          "base_uri": "https://localhost:8080/"
        },
        "id": "L-72Gxp7Smjy",
        "outputId": "bcf9b14e-8d95-4b72-dfd7-d4874de86bf7"
      },
      "outputs": [
        {
          "name": "stdout",
          "output_type": "stream",
          "text": [
            "   age section     city gender favourite_color\n",
            "0   10       A  Gurgaon      M             red\n",
            "1   22       B    Delhi      F             NaN\n",
            "2   13       C   Mumbai      F          yellow\n",
            "3   21       B    Delhi      M             NaN\n",
            "4   12       B   Mumbai      M           black\n",
            "5   11       A    Delhi      M           green\n",
            "6   17       A   Mumbai      F             red\n"
          ]
        }
      ],
      "source": [
        "import pandas as pd\n",
        "import numpy as np # crete a sample dataframe\n",
        "data = pd.DataFrame({ 'age' : [ 10, 22, 13, 21, 12, 11, 17],\n",
        "                      'section' : [ 'A', 'B', 'C', 'B', 'B', 'A', 'A'],\n",
        "                      'city' : [ 'Gurgaon', 'Delhi', 'Mumbai', 'Delhi', 'Mumbai', 'Delhi', 'Mumbai'],\n",
        "                      'gender' : [ 'M', 'F', 'F', 'M', 'M', 'M', 'F'],\n",
        "                      'favourite_color' : [ 'red', np.nan, 'yellow', np.nan, 'black', 'green', 'red'] })\n",
        "# view the data\n",
        "print(data)"
      ]
    },
    {
      "cell_type": "code",
      "execution_count": 9,
      "metadata": {
        "colab": {
          "base_uri": "https://localhost:8080/"
        },
        "id": "GlLd_OXeS8tX",
        "outputId": "5dfe0a20-d20a-4c2f-a53f-1dc10662153b"
      },
      "outputs": [
        {
          "name": "stdout",
          "output_type": "stream",
          "text": [
            "   age section     city gender favourite_color\n",
            "0   10       A  Gurgaon      M             red\n",
            "1   22       B    Delhi      F             NaN\n",
            "2   13       C   Mumbai      F          yellow\n",
            "3   21       B    Delhi      M             NaN\n",
            "4   12       B   Mumbai      M           black\n",
            "5   11       A    Delhi      M           green\n",
            "6   17       A   Mumbai      F             red\n"
          ]
        }
      ],
      "source": [
        "# Display the dataframe first\n",
        "print(data)"
      ]
    },
    {
      "cell_type": "code",
      "execution_count": 25,
      "metadata": {
        "colab": {
          "base_uri": "https://localhost:8080/"
        },
        "id": "qhVsli87TK9u",
        "outputId": "9639396f-a44c-4783-be23-68d27c076bfe"
      },
      "outputs": [
        {
          "name": "stdout",
          "output_type": "stream",
          "text": [
            "First row:\n",
            "   age section    city gender\n",
            "1   22       B   Delhi      F\n",
            "2   13       C  Mumbai      F\n",
            "3   21       B   Delhi      M\n"
          ]
        }
      ],
      "source": [
        "# Select first row\n",
        "first_row = data.iloc[ 1:4 , 0:-1] #removes the last columns\n",
        "print(\"First row:\")\n",
        "print(first_row)"
      ]
    },
    {
      "cell_type": "code",
      "execution_count": null,
      "metadata": {
        "id": "Py_8yZJVZcD8"
      },
      "outputs": [],
      "source": [
        "#Series: 1 Dimensional Data set capable of holding any knind of data types\n",
        "#DataFrame : 2 Dimensional data structure contains rows and columns\n"
      ]
    },
    {
      "cell_type": "code",
      "execution_count": 27,
      "metadata": {
        "colab": {
          "base_uri": "https://localhost:8080/"
        },
        "id": "uXcxpjElZ-Sr",
        "outputId": "ab2cc8fe-4348-4e96-c60b-1d38b96ad31e"
      },
      "outputs": [
        {
          "name": "stdout",
          "output_type": "stream",
          "text": [
            "   age\n",
            "0   10\n",
            "1   22\n",
            "2   13\n",
            "3   21\n",
            "4   12\n",
            "5   11\n",
            "6   17\n"
          ]
        }
      ],
      "source": [
        "ages= pd.DataFrame({ 'age' : [ 10, 22, 13, 21, 12, 11, 17]})\n",
        "print(ages)"
      ]
    },
    {
      "cell_type": "code",
      "execution_count": 28,
      "metadata": {
        "colab": {
          "base_uri": "https://localhost:8080/",
          "height": 203
        },
        "id": "OMjzpCYsatyS",
        "outputId": "d2aec054-cebb-4da1-80a8-2968af962a29"
      },
      "outputs": [
        {
          "data": {
            "text/html": [
              "<div style=\"max-width:800px; border: 1px solid var(--colab-border-color);\"><style>\n",
              "      pre.function-repr-contents {\n",
              "        overflow-x: auto;\n",
              "        padding: 8px 12px;\n",
              "        max-height: 500px;\n",
              "      }\n",
              "\n",
              "      pre.function-repr-contents.function-repr-contents-collapsed {\n",
              "        cursor: pointer;\n",
              "        max-height: 100px;\n",
              "      }\n",
              "    </style>\n",
              "    <pre style=\"white-space: initial; background:\n",
              "         var(--colab-secondary-surface-color); padding: 8px 12px;\n",
              "         border-bottom: 1px solid var(--colab-border-color);\"><b>pandas.core.frame.DataFrame</b><br/>def __init__(data=None, index: Axes | None=None, columns: Axes | None=None, dtype: Dtype | None=None, copy: bool | None=None) -&gt; None</pre><pre class=\"function-repr-contents function-repr-contents-collapsed\" style=\"\"><a class=\"filepath\" style=\"display:none\" href=\"#\">/usr/local/lib/python3.12/dist-packages/pandas/core/frame.py</a>Two-dimensional, size-mutable, potentially heterogeneous tabular data.\n",
              "\n",
              "Data structure also contains labeled axes (rows and columns).\n",
              "Arithmetic operations align on both row and column labels. Can be\n",
              "thought of as a dict-like container for Series objects. The primary\n",
              "pandas data structure.\n",
              "\n",
              "Parameters\n",
              "----------\n",
              "data : ndarray (structured or homogeneous), Iterable, dict, or DataFrame\n",
              "    Dict can contain Series, arrays, constants, dataclass or list-like objects. If\n",
              "    data is a dict, column order follows insertion-order. If a dict contains Series\n",
              "    which have an index defined, it is aligned by its index. This alignment also\n",
              "    occurs if data is a Series or a DataFrame itself. Alignment is done on\n",
              "    Series/DataFrame inputs.\n",
              "\n",
              "    If data is a list of dicts, column order follows insertion-order.\n",
              "\n",
              "index : Index or array-like\n",
              "    Index to use for resulting frame. Will default to RangeIndex if\n",
              "    no indexing information part of input data and no index provided.\n",
              "columns : Index or array-like\n",
              "    Column labels to use for resulting frame when data does not have them,\n",
              "    defaulting to RangeIndex(0, 1, 2, ..., n). If data contains column labels,\n",
              "    will perform column selection instead.\n",
              "dtype : dtype, default None\n",
              "    Data type to force. Only a single dtype is allowed. If None, infer.\n",
              "copy : bool or None, default None\n",
              "    Copy data from inputs.\n",
              "    For dict data, the default of None behaves like ``copy=True``.  For DataFrame\n",
              "    or 2d ndarray input, the default of None behaves like ``copy=False``.\n",
              "    If data is a dict containing one or more Series (possibly of different dtypes),\n",
              "    ``copy=False`` will ensure that these inputs are not copied.\n",
              "\n",
              "    .. versionchanged:: 1.3.0\n",
              "\n",
              "See Also\n",
              "--------\n",
              "DataFrame.from_records : Constructor from tuples, also record arrays.\n",
              "DataFrame.from_dict : From dicts of Series, arrays, or dicts.\n",
              "read_csv : Read a comma-separated values (csv) file into DataFrame.\n",
              "read_table : Read general delimited file into DataFrame.\n",
              "read_clipboard : Read text from clipboard into DataFrame.\n",
              "\n",
              "Notes\n",
              "-----\n",
              "Please reference the :ref:`User Guide &lt;basics.dataframe&gt;` for more information.\n",
              "\n",
              "Examples\n",
              "--------\n",
              "Constructing DataFrame from a dictionary.\n",
              "\n",
              "&gt;&gt;&gt; d = {&#x27;col1&#x27;: [1, 2], &#x27;col2&#x27;: [3, 4]}\n",
              "&gt;&gt;&gt; df = pd.DataFrame(data=d)\n",
              "&gt;&gt;&gt; df\n",
              "   col1  col2\n",
              "0     1     3\n",
              "1     2     4\n",
              "\n",
              "Notice that the inferred dtype is int64.\n",
              "\n",
              "&gt;&gt;&gt; df.dtypes\n",
              "col1    int64\n",
              "col2    int64\n",
              "dtype: object\n",
              "\n",
              "To enforce a single dtype:\n",
              "\n",
              "&gt;&gt;&gt; df = pd.DataFrame(data=d, dtype=np.int8)\n",
              "&gt;&gt;&gt; df.dtypes\n",
              "col1    int8\n",
              "col2    int8\n",
              "dtype: object\n",
              "\n",
              "Constructing DataFrame from a dictionary including Series:\n",
              "\n",
              "&gt;&gt;&gt; d = {&#x27;col1&#x27;: [0, 1, 2, 3], &#x27;col2&#x27;: pd.Series([2, 3], index=[2, 3])}\n",
              "&gt;&gt;&gt; pd.DataFrame(data=d, index=[0, 1, 2, 3])\n",
              "   col1  col2\n",
              "0     0   NaN\n",
              "1     1   NaN\n",
              "2     2   2.0\n",
              "3     3   3.0\n",
              "\n",
              "Constructing DataFrame from numpy ndarray:\n",
              "\n",
              "&gt;&gt;&gt; df2 = pd.DataFrame(np.array([[1, 2, 3], [4, 5, 6], [7, 8, 9]]),\n",
              "...                    columns=[&#x27;a&#x27;, &#x27;b&#x27;, &#x27;c&#x27;])\n",
              "&gt;&gt;&gt; df2\n",
              "   a  b  c\n",
              "0  1  2  3\n",
              "1  4  5  6\n",
              "2  7  8  9\n",
              "\n",
              "Constructing DataFrame from a numpy ndarray that has labeled columns:\n",
              "\n",
              "&gt;&gt;&gt; data = np.array([(1, 2, 3), (4, 5, 6), (7, 8, 9)],\n",
              "...                 dtype=[(&quot;a&quot;, &quot;i4&quot;), (&quot;b&quot;, &quot;i4&quot;), (&quot;c&quot;, &quot;i4&quot;)])\n",
              "&gt;&gt;&gt; df3 = pd.DataFrame(data, columns=[&#x27;c&#x27;, &#x27;a&#x27;])\n",
              "...\n",
              "&gt;&gt;&gt; df3\n",
              "   c  a\n",
              "0  3  1\n",
              "1  6  4\n",
              "2  9  7\n",
              "\n",
              "Constructing DataFrame from dataclass:\n",
              "\n",
              "&gt;&gt;&gt; from dataclasses import make_dataclass\n",
              "&gt;&gt;&gt; Point = make_dataclass(&quot;Point&quot;, [(&quot;x&quot;, int), (&quot;y&quot;, int)])\n",
              "&gt;&gt;&gt; pd.DataFrame([Point(0, 0), Point(0, 3), Point(2, 3)])\n",
              "   x  y\n",
              "0  0  0\n",
              "1  0  3\n",
              "2  2  3\n",
              "\n",
              "Constructing DataFrame from Series/DataFrame:\n",
              "\n",
              "&gt;&gt;&gt; ser = pd.Series([1, 2, 3], index=[&quot;a&quot;, &quot;b&quot;, &quot;c&quot;])\n",
              "&gt;&gt;&gt; df = pd.DataFrame(data=ser, index=[&quot;a&quot;, &quot;c&quot;])\n",
              "&gt;&gt;&gt; df\n",
              "   0\n",
              "a  1\n",
              "c  3\n",
              "\n",
              "&gt;&gt;&gt; df1 = pd.DataFrame([1, 2, 3], index=[&quot;a&quot;, &quot;b&quot;, &quot;c&quot;], columns=[&quot;x&quot;])\n",
              "&gt;&gt;&gt; df2 = pd.DataFrame(data=df1, index=[&quot;a&quot;, &quot;c&quot;])\n",
              "&gt;&gt;&gt; df2\n",
              "   x\n",
              "a  1\n",
              "c  3</pre>\n",
              "      <script>\n",
              "      if (google.colab.kernel.accessAllowed && google.colab.files && google.colab.files.view) {\n",
              "        for (const element of document.querySelectorAll('.filepath')) {\n",
              "          element.style.display = 'block'\n",
              "          element.onclick = (event) => {\n",
              "            event.preventDefault();\n",
              "            event.stopPropagation();\n",
              "            google.colab.files.view(element.textContent, 509);\n",
              "          };\n",
              "        }\n",
              "      }\n",
              "      for (const element of document.querySelectorAll('.function-repr-contents')) {\n",
              "        element.onclick = (event) => {\n",
              "          event.preventDefault();\n",
              "          event.stopPropagation();\n",
              "          element.classList.toggle('function-repr-contents-collapsed');\n",
              "        };\n",
              "      }\n",
              "      </script>\n",
              "      </div>"
            ],
            "text/plain": [
              "pandas.core.frame.DataFrame"
            ]
          },
          "execution_count": 28,
          "metadata": {},
          "output_type": "execute_result"
        }
      ],
      "source": [
        "type(ages)"
      ]
    }
  ],
  "metadata": {
    "colab": {
      "provenance": []
    },
    "kernelspec": {
      "display_name": "Python 3",
      "name": "python3"
    },
    "language_info": {
      "name": "python"
    }
  },
  "nbformat": 4,
  "nbformat_minor": 0
}
